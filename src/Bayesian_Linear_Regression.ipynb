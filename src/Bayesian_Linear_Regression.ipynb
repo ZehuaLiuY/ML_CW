{
 "cells": [
  {
   "cell_type": "markdown",
   "source": [
    "# Bayesian Linear Regression\n",
    "Based on the Seoul Bike Sharing Demand dataset located at ../data/SeoulBikeData.csv\n",
    "Load the data and split into train and test sets, 80% for training and 20% for testing."
   ],
   "metadata": {
    "collapsed": false
   },
   "id": "da1f0061d188c0e7"
  }
 ],
 "metadata": {
  "kernelspec": {
   "display_name": "Python 3",
   "language": "python",
   "name": "python3"
  },
  "language_info": {
   "codemirror_mode": {
    "name": "ipython",
    "version": 2
   },
   "file_extension": ".py",
   "mimetype": "text/x-python",
   "name": "python",
   "nbconvert_exporter": "python",
   "pygments_lexer": "ipython2",
   "version": "2.7.6"
  }
 },
 "nbformat": 4,
 "nbformat_minor": 5
}
